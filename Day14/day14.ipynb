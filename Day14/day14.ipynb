{
 "cells": [
  {
   "cell_type": "code",
   "execution_count": 4,
   "metadata": {},
   "outputs": [
    {
     "name": "stdout",
     "output_type": "stream",
     "text": [
      "['http://www.naver.com', 'http://www.daum.net']\n"
     ]
    }
   ],
   "source": [
    "### 텍스트 처리\n",
    "# 비정형 자료를 수집한 경우 올바르지 않은 문장이 포함될 수 있다.\n",
    "# 이런 경우 올바른 문장만 선택하는 텍스트 전처리 과정\n",
    "\n",
    "# 예) 도메인 주소의 http:// 으로 시작되지 않는 주소를 비정상 자료로 가정하여\n",
    "# 수집된 자료 제외하는 예시\n",
    "\n",
    "# 텍스트 자료\n",
    "multi_line = \"\"\"http://www.naver.com\n",
    "http://www.daum.net\n",
    "www.honggildong.com\"\"\"\n",
    "\n",
    "import re\n",
    "from re import split, compile, match\n",
    "\n",
    "# 구분자를 사용한 문자열 분리(split())\n",
    "web_site = split(\"\\n\",multi_line)\n",
    "web_site\n",
    "\n",
    "# 패턴 객체 만들기\n",
    "pat = compile(\"http://\")\n",
    "\n",
    "sel_site = [site for site in web_site if match(pat,site)]\n",
    "'''\n",
    "sel_site = []\n",
    "for site in web_site:\n",
    "    if match(pat,site)\n",
    "        sel_site.append(site)\n",
    "'''\n",
    "print(sel_site)\n",
    "\n"
   ]
  },
  {
   "cell_type": "code",
   "execution_count": 20,
   "metadata": {},
   "outputs": [
    {
     "data": {
      "text/plain": [
       "['우리나라 대한민국 우리나라 만세',\n",
       " '비아그라 정력 최고',\n",
       " '나는 대한민국 사람',\n",
       " '보험료 원에 평생 보장 마감 임박',\n",
       " '나는 홍길동']"
      ]
     },
     "execution_count": 20,
     "metadata": {},
     "output_type": "execute_result"
    }
   ],
   "source": [
    "## 자연어 전처리\n",
    "# 문장에서 명사만 추출하여 단어 출현빈도수를 분석하기 위해서는 \n",
    "# 문장에 포함된 문장 부호, 특수문자, 숫자 등을 제거해야 한다.\n",
    "# 이런 것 처럼 요구하는 내용에 따라\n",
    "# 불필요한 내용들을 제거하는 과정#\n",
    "\n",
    "from re import findall, sub\n",
    "\n",
    "# 예제 텍스트\n",
    "texts = ['우리나라        대한민국, 우리나라%$ 만세','비아그&라 500GRAM 정력 최고!',\n",
    "         '나는 대한민국 사람', '보험료 15000원에 평생 보장 마감 임박','나는 홍길동']\n",
    "\n",
    "## 1단계 - 소문자 변경\n",
    "texts_re1 = [t.lower() for t in texts]\n",
    "texts_re1\n",
    "'''\n",
    "['우리나라        대한민국, 우리나라%$ 만세',\n",
    " '비아그&라 500gram 정력 최고!',\n",
    " '나는 대한민국 사람',\n",
    " '보험료 15000원에 평생 보장 마감 임박',\n",
    " '나는 홍길동']\n",
    "'''\n",
    "\n",
    "## 2단계 - 숫자 제거\n",
    "text_re2 = [sub(\"[0-9]\",'',text) for text in texts_re1]\n",
    "text_re2\n",
    "\n",
    "'''\n",
    "['우리나라        대한민국, 우리나라%$ 만세',\n",
    " '비아그&라 gram 정력 최고!',\n",
    " '나는 대한민국 사람',\n",
    " '보험료 원에 평생 보장 마감 임박',\n",
    " '나는 홍길동']\n",
    "'''\n",
    "\n",
    "## 3단계 - 문장부호 제거\n",
    "text_re3 = [sub(\"[,.?!:;]\",'',text) for text in text_re2]\n",
    "text_re3\n",
    "'''\n",
    "['http://www.naver.com', 'http://www.daum.net']\n",
    "['우리나라        대한민국 우리나라%$ 만세',\n",
    " '비아그&라 gram 정력 최고',\n",
    " '나는 대한민국 사람',\n",
    " '보험료 원에 평생 보장 마감 임박',\n",
    " '나는 홍길동']\n",
    "'''\n",
    "\n",
    "## 4단계 - 특수 문자 제거\n",
    "special_str = '[@#$%^&*()]'\n",
    "texts_re4 = [sub(special_str,'',text)for text in text_re3]\n",
    "texts_re4\n",
    "'''\n",
    "['우리나라        대한민국 우리나라 만세',\n",
    " '비아그라 gram 정력 최고',\n",
    " '나는 대한민국 사람',\n",
    " '보험료 원에 평생 보장 마감 임박',\n",
    " '나는 홍길동']\n",
    "'''\n",
    "\n",
    "### 5단계 - 영문자 제거\n",
    "texts_re5 = [''.join(findall(\"[^a-z]\", text)) for text in texts_re4]\n",
    "texts_re5\n",
    "'''\n",
    "\n",
    "'''\n",
    "\n",
    "### 6단계 - 공백 제거\n",
    "texts_re6 = [' '.join(text.split()) for text in texts_re5]\n",
    "texts_re6\n",
    "'''\n",
    "['우리나라 대한민국 우리나라 만세',\n",
    " '비아그라 정력 최고',\n",
    " '나는 대한민국 사람',\n",
    " '보험료 원에 평생 보장 마감 임박',\n",
    " '나는 홍길동']\n",
    "'''\n"
   ]
  },
  {
   "cell_type": "code",
   "execution_count": 22,
   "metadata": {},
   "outputs": [
    {
     "name": "stdout",
     "output_type": "stream",
     "text": [
      "비아그라 정력 최고\n",
      "['우리나라 대한민국 우리나라 만세', '비아그라 정력 최고', '나는 대한민국 사람', '보험료 원에 평생 보장 마감 임박', '나는 홍길동']\n"
     ]
    }
   ],
   "source": [
    "### 전처리 과정을 함수로...\n",
    "# 함수명 : clean_text(text) 1~6단계 작업을 진행\n",
    "\n",
    "texts = ['우리나라        대한민국, 우리나라%$ 만세','비아그&라 500GRAM 정력 최고!',\n",
    "         '나는 대한민국 사람', '보험료 15000원에 평생 보장 마감 임박','나는 홍길동']\n",
    "\n",
    "# 최종 결과\n",
    "'''\n",
    "['우리나라 대한민국 우리나라 만세',\n",
    " '비아그라 정력 최고',\n",
    " '나는 대한민국 사람',\n",
    " '보험료 원에 평생 보장 마감 임박',\n",
    " '나는 홍길동']\n",
    "'''\n",
    "\n",
    "from re import findall, sub\n",
    "\n",
    "# 전처리 함수\n",
    "def clean_text(text):\n",
    "    # 1~6 단계\n",
    "    text_re = text.lower()\n",
    "    text_re2 = sub('[0-9]','',text_re) # 숫자제거\n",
    "    text_re3 = sub('[,.?!;:]','',text_re2) # 문장부호 제거\n",
    "    text_re4 = sub('[@#$%^&*()]','',text_re3) # 특수문자 제거\n",
    "    text_re5 = sub('[a-z]','',text_re4)   # 영문자 제거\n",
    "    text_re6 = \" \".join(text_re5.split()) # white space 제거\n",
    "    return text_re6\n",
    "\n",
    "# 함수 호출\n",
    "\n",
    "text_result = [clean_text(text) for text in texts]\n",
    "\n",
    "print(text_result)\n",
    "    \n",
    "'''\n",
    "['우리나라 대한민국 우리나라 만세', '비아그라 정력 최고', '나는 대한민국 사람', '보험료 원에 평생 보장 마감 임박', '나는 홍길동']\n",
    "'''"
   ]
  }
 ],
 "metadata": {
  "interpreter": {
   "hash": "b89b5cfaba6639976dc87ff2fec6d58faec662063367e2c229c520fe71072417"
  },
  "kernelspec": {
   "display_name": "Python 3.10.3 64-bit",
   "language": "python",
   "name": "python3"
  },
  "language_info": {
   "codemirror_mode": {
    "name": "ipython",
    "version": 3
   },
   "file_extension": ".py",
   "mimetype": "text/x-python",
   "name": "python",
   "nbconvert_exporter": "python",
   "pygments_lexer": "ipython3",
   "version": "3.10.3"
  },
  "orig_nbformat": 4
 },
 "nbformat": 4,
 "nbformat_minor": 2
}
