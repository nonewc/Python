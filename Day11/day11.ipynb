{
 "cells": [
  {
   "cell_type": "markdown",
   "metadata": {},
   "source": [
    "##파일의 확장자를 파일명.ipynb"
   ]
  },
  {
   "cell_type": "markdown",
   "metadata": {},
   "source": [
    "#### 관련용어\n",
    "\n",
    "1. 크롤링이란, 웹을 탐색하는 컴퓨터 프로그램(크롤러)을 이용하여\n",
    "여러 인터넷 사이트의 웹페이지 자료를 수집하여 분류하는 과정을 말함.\n"
   ]
  },
  {
   "cell_type": "markdown",
   "metadata": {},
   "source": [
    "3. 파싱\n",
    "파싱(parsing)이란, 어떤 페이지(문서, html등)에서 내가 원하는 데이터를 특정 패턴이나\n",
    "순서로 추출하여 정보를 가공하는 것을 말함. 예로 html 소스를 문자열로 수집하여\n",
    "html태그로 인식하도록 정보를 가공하여 html 단위별 분석이 가능하게 구성할 수 있음"
   ]
  },
  {
   "cell_type": "code",
   "execution_count": null,
   "metadata": {},
   "outputs": [],
   "source": [
    "import urllib.request   #웹에 통신 데이터를 요청하는 모듈\n",
    "from bs4 import BeautifulSoup\n",
    "\n",
    "## html source 가져오기.. (www.naver.com)\n",
    "url = 'http://www.naver.com'\n",
    "resp = urllib.request.urlopen(url)\n",
    "data = resp.read()\n",
    "data"
   ]
  },
  {
   "cell_type": "code",
   "execution_count": null,
   "metadata": {},
   "outputs": [],
   "source": [
    "## 파일을 이용하여 html01.html을 읽어보세요\n",
    "import urllib.request\n",
    "from bs4 import BeautifulSoup\n",
    "\n",
    "import os\n",
    "\n",
    "os.getcwd()\n",
    "\n",
    "## html01.html 파일 읽기\n",
    "rfile = open('data/html01.html','r',encoding='utf8')\n",
    "html01 = rfile.read()\n",
    "\n",
    "# html 파싱\n",
    "source = BeautifulSoup(html01,'html.parser')\n",
    "\n",
    "## h1 접근\n",
    "h1 = source.html.body.h1    #DOM\n",
    "h1.string\n",
    "\n",
    "## h2 접근 : find()\n",
    "h2 = source.find('h2')\n",
    "print('h2 : ',h2.string)\n",
    "\n",
    "## body 접근 children\n",
    "body = source.html.body\n",
    "print('body태그 하위 태그들')\n",
    "for i in body.children:\n",
    "    print(i)\n",
    "\n",
    "## li 태그들을 찾아서 출력하고, 내용들을 출력\n",
    "litags = source.find_all('li')\n",
    "litags\n",
    "idx = 0\n",
    "for li in litags:\n",
    "    idx ++ 1\n"
   ]
  },
  {
   "cell_type": "code",
   "execution_count": 17,
   "metadata": {},
   "outputs": [
    {
     "name": "stdout",
     "output_type": "stream",
     "text": [
      "links size =  5\n",
      "<a href=\"www.naver.com\">네이버</a>\n",
      "www.naver.com\n",
      "예외발생 :  'target'\n",
      "<a href=\"http://www.naver.com\">네이버</a>\n",
      "http://www.naver.com\n",
      "예외발생 :  'target'\n",
      "<a href=\"http://www.naver.com\" target=\"_blank\"> 네이버 새창으로 </a>\n",
      "http://www.naver.com\n",
      "_blank\n",
      "<a href=\"www.daum.net\">다음</a>\n",
      "www.daum.net\n",
      "예외발생 :  'target'\n",
      "<a href=\"http://www.daum.net\">다음</a>\n",
      "http://www.daum.net\n",
      "예외발생 :  'target'\n",
      "패턴 객체를 생성하여 속성 찾기\n",
      "[<a href=\"http://www.naver.com\">네이버</a>, <a href=\"http://www.naver.com\" target=\"_blank\"> 네이버 새창으로 </a>, <a href=\"http://www.daum.net\">다음</a>]\n"
     ]
    }
   ],
   "source": [
    "### 태그 속성 찾기\n",
    "\n",
    "# 파일 읽기\n",
    "rfile2 = open('data/html02.html','r',encoding='UTF-8')\n",
    "src2 = rfile2.read()\n",
    "\n",
    "# html 피싱\n",
    "html02 = BeautifulSoup(src2,'html.parser')\n",
    "\n",
    "# a tag 찾기\n",
    "links = html02.find_all('a')  #<a>를 모두 찾기\n",
    "print(\"links size = \",len(links))\n",
    "\n",
    "## a tag에서 속성 찾기\n",
    "for link in links:\n",
    "    try:\n",
    "        print(link)\n",
    "        print(link.attrs['href'])\n",
    "        print(link.attrs['target'])\n",
    "    except Exception as e :\n",
    "        print(\"예외발생 : \",e)\n",
    "\n",
    "# 정규표현식으로 속성 찾기\n",
    "import re\n",
    "print(\"패턴 객체를 생성하여 속성 찾기\")\n",
    "patt = re.compile('http://')    # patt 객체 ...\n",
    "links = html02.find_all(href=patt)  # 패턴 찾기\n",
    "print(links)"
   ]
  },
  {
   "cell_type": "code",
   "execution_count": 22,
   "metadata": {},
   "outputs": [
    {
     "ename": "SyntaxError",
     "evalue": "incomplete input (783094215.py, line 34)",
     "output_type": "error",
     "traceback": [
      "\u001b[1;36m  Input \u001b[1;32mIn [22]\u001b[1;36m\u001b[0m\n\u001b[1;33m    for td in tds:\u001b[0m\n\u001b[1;37m                  ^\u001b[0m\n\u001b[1;31mSyntaxError\u001b[0m\u001b[1;31m:\u001b[0m incomplete input\n"
     ]
    }
   ],
   "source": [
    "# html03.html에서 선택자를 이용한 정보수집\n",
    "from bs4 import BeautifulSoup\n",
    "\n",
    "# 로컬 파일 읽기\n",
    "rfile3 = open('data/html03.html','r',encoding='utf-8')\n",
    "src3 = rfile3.read()\n",
    "\n",
    "# html 파싱\n",
    "html3 = BeautifulSoup(src3,'html.parser')\n",
    "\n",
    "# 선택자를 이용한 내용 가져오기(select, select_one)\n",
    "# 1. id = 'tab' 선택자 정보 가져오기\n",
    "print(\">>> table 선택자 <<<\")\n",
    "table = html3.select_one('#tab')    # table에 있는 id값 'tab'으로 접근\n",
    "print(table) # table 태그 전체 출력\n",
    "\n",
    "# 2. id선택자와 계층\n",
    "print(\">>> 선택자 & 계층 <<<\")\n",
    "ths = html3.select('#tab > tr > th')\n",
    "print(ths)  #list형태로 반환\n",
    "\n",
    "# 3. class 선택자\n",
    "print(\">>> 클래스 선택자 <<<\")\n",
    "trs = html3.select('#tab > .odd')\n",
    "print(trs)\n",
    "\n",
    "print(\">>>속성값을 이용한 선택<<<\")\n",
    "trs2 = html3.select('tr[class=\"odd\"]')\n",
    "print(trs2)\n",
    "\n",
    "### tr > td에 있는 문자열을 출력하는 코드를 작성하세요.\n",
    "tds = html3.select(\"#tab > tr > td\")\n",
    "print(\">>> tr > td 출력 <<<\")\n",
    "for td in tds:"
   ]
  },
  {
   "cell_type": "code",
   "execution_count": null,
   "metadata": {},
   "outputs": [],
   "source": [
    "# [실습] : www.naver.com, www.daum.net, www.yahoo.com 에서 li 태그 목록 정보\n",
    "# 불러와 출력\n",
    "# [추가] ==> new 중 하나를 선택해서 주요 기사 내용을 출력"
   ]
  }
 ],
 "metadata": {
  "interpreter": {
   "hash": "b89b5cfaba6639976dc87ff2fec6d58faec662063367e2c229c520fe71072417"
  },
  "kernelspec": {
   "display_name": "Python 3.10.3 64-bit",
   "language": "python",
   "name": "python3"
  },
  "language_info": {
   "codemirror_mode": {
    "name": "ipython",
    "version": 3
   },
   "file_extension": ".py",
   "mimetype": "text/x-python",
   "name": "python",
   "nbconvert_exporter": "python",
   "pygments_lexer": "ipython3",
   "version": "3.10.3"
  },
  "orig_nbformat": 4
 },
 "nbformat": 4,
 "nbformat_minor": 2
}
