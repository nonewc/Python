{
 "cells": [
  {
   "cell_type": "code",
   "execution_count": 3,
   "metadata": {},
   "outputs": [],
   "source": [
    "import datetime\n",
    "from datetime import datetime, date\n",
    "import pandas as pd\n",
    "import numpy as np\n",
    "import matplotlib.pyplot as plt\n",
    "pd.set_option('display.notebook_repr_html', True)\n",
    "pd.set_option('display.max_columns', 7)\n",
    "pd.set_option('display.max_rows', 10)\n",
    "pd.set_option('display.width', 250)\n",
    "%matplotlib inline\n",
    "from re import match\n",
    "import os \n",
    "import json    # json 모듈 import "
   ]
  },
  {
   "cell_type": "code",
   "execution_count": 4,
   "metadata": {},
   "outputs": [
    {
     "data": {
      "text/plain": [
       "48.33"
      ]
     },
     "execution_count": 4,
     "metadata": {},
     "output_type": "execute_result"
    }
   ],
   "source": [
    "'''\n",
    "jumsu = {\n",
    "'홍길동' : [50,60,50],\n",
    "'이순동' : [60,60,60],\n",
    "'강감동' : [100,90,90],\n",
    "'유관동' : [80,80,90],\n",
    "'홍길도' : [50,45,50],\n",
    "'이순도' : [80,70,66],\n",
    "'강감도' : [64,49,50],\n",
    "'유관도' : [60,50,50],\n",
    "'홍길재' : [50,45,51],\n",
    "'이순재' : [80,70,61],\n",
    "'강감재' : [64,49,51],\n",
    "'유관재' : [60,50,51],\n",
    "'강환석' : [95,95,95]\n",
    "}\n",
    "<요구사항1>\n",
    "다음의 순서대로 코딩하세요.\n",
    "가. 보기의 jumsu 딕셔너리 중에서 평균 점수가 60점 미만인 사람만 선별하여 또 다른 딕셔너리에 저장하세요.\n",
    "나. 가. 항에서 만든 또 다른 딕셔너리를 이용하여 데이터(요소)가 평균이고 인덱스가 이름인 Series 를 만드세요.\n",
    "다. 시리즈를 <실행결과> 와 같이 출력하세요.\n",
    "\n",
    "<실행결과>\n",
    "\n",
    "홍길동-홍길도-강감도-유관도-홍길재-강감재-유관재-\n",
    "53.33--48.33--54.33--53.33--48.67--54.67--53.67--\n",
    "'''\n",
    "jumsu = {\n",
    "'홍길동' : [50,60,50],\n",
    "'이순동' : [60,60,60],\n",
    "'강감동' : [100,90,90],\n",
    "'유관동' : [80,80,90],\n",
    "'홍길도' : [50,45,50],\n",
    "'이순도' : [80,70,66],\n",
    "'강감도' : [64,49,50],\n",
    "'유관도' : [60,50,50],\n",
    "'홍길재' : [50,45,51],\n",
    "'이순재' : [80,70,61],\n",
    "'강감재' : [64,49,51],\n",
    "'유관재' : [60,50,51],\n",
    "'강환석' : [95,95,95]\n",
    "}\n",
    "\n",
    "\n",
    "jumsu2 = {}\n",
    "for key, value in jumsu.items():\n",
    "    if round(np.mean(value),2) < 60:\n",
    "        jumsu2[key] = round(np.mean(value))\n",
    "\n",
    "jumsu3 = { key:round(np.mean(value),2) \n",
    "          for key,value in jumsu.items() \n",
    "          if round(np.mean(value),2) < 60}\n",
    "\n",
    "jumsu3_s = pd.Series(jumsu3)\n",
    "jumsu3_s\n",
    "### === 위 평균 60점 미만의 사람들의 총점을 구하여 이름과 총점으로 딕셔너리 생성하세요.\n",
    "### 그리고, 딕셔너리로 시리즈를 만드세요.\n",
    "\n",
    "jumsu4 = { key:np.sum(value) \n",
    "          for key,value in jumsu.items() \n",
    "          if round(np.mean(value),2) < 60}\n",
    "\n",
    "jumsu4_s = pd.Series(jumsu4)\n",
    "\n",
    "jumsu_df = pd.DataFrame({'합계':jumsu4_s, \"평균\":jumsu3_s})\n",
    "\n",
    "jumsu_df['평균']['홍길도']\n"
   ]
  },
  {
   "cell_type": "code",
   "execution_count": 5,
   "metadata": {},
   "outputs": [
    {
     "name": "stdout",
     "output_type": "stream",
     "text": [
      "DatetimeIndex(['2022-04-01', '2022-04-02', '2022-04-03', '2022-04-04', '2022-04-05', '2022-04-06', '2022-04-07'], dtype='datetime64[ns]', freq='D')\n",
      "<class 'pandas.core.indexes.datetimes.DatetimeIndex'>\n"
     ]
    }
   ],
   "source": [
    "#### 날짜 데이터 생성\n",
    "dates = pd.date_range('2022-04-01','2022-04-7')\n",
    "print(dates)\n",
    "print(type(dates))\n",
    "## datetime 이라는 특별한 형식 인덱스를 생성함. \n",
    "## datetime 은 판다스에서 날짜/시간 관련 인덱스. "
   ]
  },
  {
   "cell_type": "code",
   "execution_count": 6,
   "metadata": {},
   "outputs": [
    {
     "name": "stdout",
     "output_type": "stream",
     "text": [
      "<class 'pandas.core.series.Series'>\n",
      "DatetimeIndex: 7 entries, 2022-04-01 to 2022-04-07\n",
      "Freq: D\n",
      "Series name: None\n",
      "Non-Null Count  Dtype\n",
      "--------------  -----\n",
      "7 non-null      int64\n",
      "dtypes: int64(1)\n",
      "memory usage: 112.0 bytes\n"
     ]
    },
    {
     "data": {
      "text/plain": [
       "2022-04-01    80\n",
       "2022-04-02    82\n",
       "2022-04-03    85\n",
       "2022-04-04    90\n",
       "2022-04-05    92\n",
       "2022-04-06    87\n",
       "2022-04-07    88\n",
       "Freq: D, dtype: int64"
      ]
     },
     "execution_count": 6,
     "metadata": {},
     "output_type": "execute_result"
    }
   ],
   "source": [
    "temps1 = pd.Series([80,82,85,90,92,87,88], index=dates)\n",
    "temps1.info()\n",
    "### Pandas에서 DatetimeIndex 의 형식으로 인덱스를 사용하는 데이터를 시계열이라 한다. \n",
    "temps1"
   ]
  },
  {
   "cell_type": "code",
   "execution_count": 7,
   "metadata": {},
   "outputs": [
    {
     "data": {
      "text/plain": [
       "88"
      ]
     },
     "execution_count": 7,
     "metadata": {},
     "output_type": "execute_result"
    }
   ],
   "source": [
    "temps1['2022-04-07']"
   ]
  },
  {
   "cell_type": "code",
   "execution_count": 8,
   "metadata": {},
   "outputs": [
    {
     "name": "stdout",
     "output_type": "stream",
     "text": [
      "2022-04-01    60\n",
      "2022-04-02    70\n",
      "2022-04-03    69\n",
      "2022-04-04    83\n",
      "2022-04-05    77\n",
      "2022-04-06    79\n",
      "2022-04-07    75\n",
      "Freq: D, dtype: int64\n"
     ]
    }
   ],
   "source": [
    "temps2 = pd.Series([60,70,69,83,77,79,75],index=dates)\n",
    "print(temps2)"
   ]
  },
  {
   "cell_type": "code",
   "execution_count": 9,
   "metadata": {},
   "outputs": [
    {
     "name": "stdout",
     "output_type": "stream",
     "text": [
      "2022-04-01    20\n",
      "2022-04-02    12\n",
      "2022-04-03    16\n",
      "2022-04-04     7\n",
      "2022-04-05    15\n",
      "2022-04-06     8\n",
      "2022-04-07    13\n",
      "Freq: D, dtype: int64\n"
     ]
    }
   ],
   "source": [
    "### temps1 도시의 온도와 temps2 도시의 온도 간차이를 temps_diff에 저장\n",
    "temps_diff = temps1 - temps2\n",
    "print(temps_diff)"
   ]
  },
  {
   "cell_type": "code",
   "execution_count": 10,
   "metadata": {},
   "outputs": [
    {
     "data": {
      "text/plain": [
       "2022-04-01    60\n",
       "2022-04-02    70\n",
       "2022-04-03    69\n",
       "2022-04-04    83\n",
       "2022-04-05    77\n",
       "2022-04-06    79\n",
       "2022-04-07    75\n",
       "Freq: D, dtype: int64"
      ]
     },
     "execution_count": 10,
     "metadata": {},
     "output_type": "execute_result"
    }
   ],
   "source": [
    "temps_diff.mean()  # numpy에서 제고하는 라이브러리에 있는 mean()와 구분되는 mean()이 존재함\n",
    "type(temps_diff)\n",
    "temps1\n",
    "temps2"
   ]
  },
  {
   "cell_type": "code",
   "execution_count": 11,
   "metadata": {},
   "outputs": [
    {
     "name": "stdout",
     "output_type": "stream",
     "text": [
      "2022-04-01    140\n",
      "2022-04-02    152\n",
      "2022-04-03    154\n",
      "2022-04-04    173\n",
      "2022-04-05    169\n",
      "2022-04-06    166\n",
      "2022-04-07    163\n",
      "Freq: D, dtype: int64\n",
      "2022-04-01    4800\n",
      "2022-04-02    5740\n",
      "2022-04-03    5865\n",
      "2022-04-04    7470\n",
      "2022-04-05    7084\n",
      "2022-04-06    6873\n",
      "2022-04-07    6600\n",
      "Freq: D, dtype: int64\n",
      "2022-04-01    1.333333\n",
      "2022-04-02    1.171429\n",
      "2022-04-03    1.231884\n",
      "2022-04-04    1.084337\n",
      "2022-04-05    1.194805\n",
      "2022-04-06    1.101266\n",
      "2022-04-07    1.173333\n",
      "Freq: D, dtype: float64\n"
     ]
    }
   ],
   "source": [
    "# 문제1\n",
    "### 위의 temps1, temps2를 이용하여 뺄샘이외에 다른 연산 가능한지 실습... \n",
    "## 더하기, 곱하기, 나누기... \n",
    "print(temps1 + temps2)\n",
    "print(temps1 * temps2)\n",
    "print(temps1 / temps2)"
   ]
  },
  {
   "cell_type": "code",
   "execution_count": 12,
   "metadata": {},
   "outputs": [
    {
     "name": "stdout",
     "output_type": "stream",
     "text": [
      "2022-04-01    75\n",
      "2022-04-02    77\n",
      "2022-04-03    67\n",
      "2022-04-04    82\n",
      "2022-04-05    77\n",
      "2022-04-06    85\n",
      "2022-04-07    89\n",
      "Freq: D, dtype: int64\n",
      "------------------------------------------------------------\n",
      "temps_df\n",
      "            Missoula  Philadelphia  Seoul\n",
      "2022-04-01        80            60     75\n",
      "2022-04-02        82            70     77\n",
      "2022-04-03        85            69     67\n",
      "2022-04-04        90            83     82\n",
      "2022-04-05        92            77     77\n",
      "2022-04-06        87            79     85\n",
      "2022-04-07        88            75     89\n"
     ]
    }
   ],
   "source": [
    "# 문제2\n",
    "### temps3를 생성. temps1과 temps2와 대응하는 시리즈를 생성하세요. \n",
    "# 온도 : 75, 77, 67, 82, 77, 85, 89 , 인덱스 : dates\n",
    "#\n",
    "# 이렇게 생성된 temps1, temps2, temps3를 temps_df로 데이타프레임으로 생성하세요. \n",
    "# temps1 - Missoula, temps2 - Philadelphia, temps3 - Seoul\n",
    "temps3 = pd.Series([75,77,67,82,77,85,89],index=dates)\n",
    "print(temps3)\n",
    "dic1 = {'Missoula':temps1, 'Philadelphia':temps2, 'Seoul':temps3}\n",
    "temps_df = pd.DataFrame(dic1)\n",
    "print(\"--\"*30)\n",
    "print(\"temps_df\")\n",
    "print(temps_df)\n"
   ]
  },
  {
   "cell_type": "markdown",
   "metadata": {},
   "source": [
    "### 문제3. 각도의 평균온도를 구하세요. \n",
    "<img src=\"im.png\">"
   ]
  },
  {
   "cell_type": "code",
   "execution_count": 13,
   "metadata": {},
   "outputs": [
    {
     "name": "stdout",
     "output_type": "stream",
     "text": [
      "            Missoula  Philadelphia  Seoul\n",
      "2022-04-01        80            60     75\n",
      "2022-04-02        82            70     77\n",
      "2022-04-03        85            69     67\n",
      "2022-04-04        90            83     82\n",
      "2022-04-05        92            77     77\n",
      "2022-04-06        87            79     85\n",
      "2022-04-07        88            75     89\n",
      "----------------------------------------\n",
      "Missoula \t평균기온 :  86.29\n",
      "Philadelphia \t평균기온 :  73.29\n",
      "Seoul   \t평균기온 :  78.86\n"
     ]
    }
   ],
   "source": [
    "print(temps_df)\n",
    "print(\"-\"*40)\n",
    "print(\"Missoula \\t평균기온 : \",round(temps_df['Missoula'].mean(),2))\n",
    "print(\"Philadelphia \\t평균기온 : \",round(temps_df['Philadelphia'].mean(),2))\n",
    "print(\"Seoul   \\t평균기온 : \",round(temps_df['Seoul'].mean(),2))"
   ]
  },
  {
   "cell_type": "code",
   "execution_count": 14,
   "metadata": {},
   "outputs": [
    {
     "name": "stdout",
     "output_type": "stream",
     "text": [
      "2022-04-01    80\n",
      "2022-04-02    82\n",
      "2022-04-03    85\n",
      "2022-04-04    90\n",
      "2022-04-05    92\n",
      "2022-04-06    87\n",
      "2022-04-07    88\n",
      "Freq: D, Name: Missoula, dtype: int64\n",
      "<class 'pandas.core.series.Series'>\n"
     ]
    }
   ],
   "source": [
    "print(temps_df['Missoula'])\n",
    "aa = temps_df['Missoula']\n",
    "print(type(aa))"
   ]
  },
  {
   "cell_type": "code",
   "execution_count": 15,
   "metadata": {},
   "outputs": [
    {
     "name": "stdout",
     "output_type": "stream",
     "text": [
      "            Missoula  Philadelphia\n",
      "2022-04-01        80            60\n",
      "2022-04-02        82            70\n",
      "2022-04-03        85            69\n",
      "2022-04-04        90            83\n",
      "2022-04-05        92            77\n",
      "2022-04-06        87            79\n",
      "2022-04-07        88            75 <class 'pandas.core.frame.DataFrame'>\n"
     ]
    }
   ],
   "source": [
    "## 두개 이상의 컬럼을 한번에 가져오고자 할 때... []를 이용한다. \n",
    "cc = temps_df[['Missoula','Philadelphia']]\n",
    "print(cc,type(cc))"
   ]
  },
  {
   "cell_type": "code",
   "execution_count": 16,
   "metadata": {},
   "outputs": [
    {
     "data": {
      "text/html": [
       "<div>\n",
       "<style scoped>\n",
       "    .dataframe tbody tr th:only-of-type {\n",
       "        vertical-align: middle;\n",
       "    }\n",
       "\n",
       "    .dataframe tbody tr th {\n",
       "        vertical-align: top;\n",
       "    }\n",
       "\n",
       "    .dataframe thead th {\n",
       "        text-align: right;\n",
       "    }\n",
       "</style>\n",
       "<table border=\"1\" class=\"dataframe\">\n",
       "  <thead>\n",
       "    <tr style=\"text-align: right;\">\n",
       "      <th></th>\n",
       "      <th>Missoula</th>\n",
       "      <th>Philadelphia</th>\n",
       "      <th>Difference</th>\n",
       "    </tr>\n",
       "  </thead>\n",
       "  <tbody>\n",
       "    <tr>\n",
       "      <th>2022-04-01</th>\n",
       "      <td>80</td>\n",
       "      <td>60</td>\n",
       "      <td>20</td>\n",
       "    </tr>\n",
       "    <tr>\n",
       "      <th>2022-04-02</th>\n",
       "      <td>82</td>\n",
       "      <td>70</td>\n",
       "      <td>12</td>\n",
       "    </tr>\n",
       "    <tr>\n",
       "      <th>2022-04-03</th>\n",
       "      <td>85</td>\n",
       "      <td>69</td>\n",
       "      <td>16</td>\n",
       "    </tr>\n",
       "    <tr>\n",
       "      <th>2022-04-04</th>\n",
       "      <td>90</td>\n",
       "      <td>83</td>\n",
       "      <td>7</td>\n",
       "    </tr>\n",
       "    <tr>\n",
       "      <th>2022-04-05</th>\n",
       "      <td>92</td>\n",
       "      <td>77</td>\n",
       "      <td>15</td>\n",
       "    </tr>\n",
       "    <tr>\n",
       "      <th>2022-04-06</th>\n",
       "      <td>87</td>\n",
       "      <td>79</td>\n",
       "      <td>8</td>\n",
       "    </tr>\n",
       "    <tr>\n",
       "      <th>2022-04-07</th>\n",
       "      <td>88</td>\n",
       "      <td>75</td>\n",
       "      <td>13</td>\n",
       "    </tr>\n",
       "  </tbody>\n",
       "</table>\n",
       "</div>"
      ],
      "text/plain": [
       "            Missoula  Philadelphia  Difference\n",
       "2022-04-01        80            60          20\n",
       "2022-04-02        82            70          12\n",
       "2022-04-03        85            69          16\n",
       "2022-04-04        90            83           7\n",
       "2022-04-05        92            77          15\n",
       "2022-04-06        87            79           8\n",
       "2022-04-07        88            75          13"
      ]
     },
     "execution_count": 16,
     "metadata": {},
     "output_type": "execute_result"
    }
   ],
   "source": [
    "cc_diff = cc['Missoula'] - cc['Philadelphia']\n",
    "cc['Difference'] = cc_diff\n",
    "cc"
   ]
  },
  {
   "cell_type": "code",
   "execution_count": 17,
   "metadata": {},
   "outputs": [
    {
     "data": {
      "text/plain": [
       "Index(['Missoula', 'Philadelphia', 'Difference'], dtype='object')"
      ]
     },
     "execution_count": 17,
     "metadata": {},
     "output_type": "execute_result"
    }
   ],
   "source": [
    "### temps_df 또는 cc 데이터프레임의 컬럼명을 모두 출력\n",
    "cc.columns          # columns -> 데이타프레임에 있는 컬럼을 출력"
   ]
  },
  {
   "cell_type": "code",
   "execution_count": 18,
   "metadata": {},
   "outputs": [
    {
     "data": {
      "text/html": [
       "<div>\n",
       "<style scoped>\n",
       "    .dataframe tbody tr th:only-of-type {\n",
       "        vertical-align: middle;\n",
       "    }\n",
       "\n",
       "    .dataframe tbody tr th {\n",
       "        vertical-align: top;\n",
       "    }\n",
       "\n",
       "    .dataframe thead th {\n",
       "        text-align: right;\n",
       "    }\n",
       "</style>\n",
       "<table border=\"1\" class=\"dataframe\">\n",
       "  <thead>\n",
       "    <tr style=\"text-align: right;\">\n",
       "      <th></th>\n",
       "      <th>Missoula</th>\n",
       "      <th>Philadelphia</th>\n",
       "      <th>Difference</th>\n",
       "    </tr>\n",
       "  </thead>\n",
       "  <tbody>\n",
       "    <tr>\n",
       "      <th>2022-04-04</th>\n",
       "      <td>90</td>\n",
       "      <td>83</td>\n",
       "      <td>7</td>\n",
       "    </tr>\n",
       "    <tr>\n",
       "      <th>2022-04-05</th>\n",
       "      <td>92</td>\n",
       "      <td>77</td>\n",
       "      <td>15</td>\n",
       "    </tr>\n",
       "    <tr>\n",
       "      <th>2022-04-06</th>\n",
       "      <td>87</td>\n",
       "      <td>79</td>\n",
       "      <td>8</td>\n",
       "    </tr>\n",
       "    <tr>\n",
       "      <th>2022-04-07</th>\n",
       "      <td>88</td>\n",
       "      <td>75</td>\n",
       "      <td>13</td>\n",
       "    </tr>\n",
       "  </tbody>\n",
       "</table>\n",
       "</div>"
      ],
      "text/plain": [
       "            Missoula  Philadelphia  Difference\n",
       "2022-04-04        90            83           7\n",
       "2022-04-05        92            77          15\n",
       "2022-04-06        87            79           8\n",
       "2022-04-07        88            75          13"
      ]
     },
     "execution_count": 18,
     "metadata": {},
     "output_type": "execute_result"
    }
   ],
   "source": [
    "# 데이터 프레임의 인덱스는 기본 인덱스와 사용자 인덱스가 존재한다. \n",
    "# 기본 인덱스는 위치 인덱스라고도 한다. \n",
    "# cc또는 temps_df에 있는 2022-04-01 ~ 2022-04-07의 인덱스는 사용자 인덱스라고 한다. \n",
    "# 슬라이싱을 이용한 방식은 기본 인덱스를 사용하게 된다.#\n",
    "cc.Difference[1:4]\n",
    "cc[1:4]\n",
    "cc[:3]\n",
    "cc[3:]"
   ]
  },
  {
   "cell_type": "code",
   "execution_count": 19,
   "metadata": {},
   "outputs": [
    {
     "name": "stdout",
     "output_type": "stream",
     "text": [
      "            Missoula  Philadelphia  Difference\n",
      "2022-04-01        80            60          20\n",
      "2022-04-02        82            70          12\n",
      "2022-04-03        85            69          16\n",
      "2022-04-04        90            83           7\n",
      "2022-04-05        92            77          15\n",
      "2022-04-06        87            79           8\n",
      "2022-04-07        88            75          13\n"
     ]
    },
    {
     "data": {
      "text/html": [
       "<div>\n",
       "<style scoped>\n",
       "    .dataframe tbody tr th:only-of-type {\n",
       "        vertical-align: middle;\n",
       "    }\n",
       "\n",
       "    .dataframe tbody tr th {\n",
       "        vertical-align: top;\n",
       "    }\n",
       "\n",
       "    .dataframe thead th {\n",
       "        text-align: right;\n",
       "    }\n",
       "</style>\n",
       "<table border=\"1\" class=\"dataframe\">\n",
       "  <thead>\n",
       "    <tr style=\"text-align: right;\">\n",
       "      <th></th>\n",
       "      <th>Missoula</th>\n",
       "      <th>Philadelphia</th>\n",
       "      <th>Difference</th>\n",
       "    </tr>\n",
       "  </thead>\n",
       "  <tbody>\n",
       "    <tr>\n",
       "      <th>2022-04-07</th>\n",
       "      <td>88</td>\n",
       "      <td>75</td>\n",
       "      <td>13</td>\n",
       "    </tr>\n",
       "  </tbody>\n",
       "</table>\n",
       "</div>"
      ],
      "text/plain": [
       "            Missoula  Philadelphia  Difference\n",
       "2022-04-07        88            75          13"
      ]
     },
     "execution_count": 19,
     "metadata": {},
     "output_type": "execute_result"
    }
   ],
   "source": [
    "print(cc)\n",
    "cc[-2:]\n",
    "cc[-1:]"
   ]
  },
  {
   "cell_type": "code",
   "execution_count": 20,
   "metadata": {},
   "outputs": [
    {
     "data": {
      "text/html": [
       "<div>\n",
       "<style scoped>\n",
       "    .dataframe tbody tr th:only-of-type {\n",
       "        vertical-align: middle;\n",
       "    }\n",
       "\n",
       "    .dataframe tbody tr th {\n",
       "        vertical-align: top;\n",
       "    }\n",
       "\n",
       "    .dataframe thead th {\n",
       "        text-align: right;\n",
       "    }\n",
       "</style>\n",
       "<table border=\"1\" class=\"dataframe\">\n",
       "  <thead>\n",
       "    <tr style=\"text-align: right;\">\n",
       "      <th></th>\n",
       "      <th>Philadelphia</th>\n",
       "      <th>Seoul</th>\n",
       "    </tr>\n",
       "  </thead>\n",
       "  <tbody>\n",
       "    <tr>\n",
       "      <th>2022-04-02</th>\n",
       "      <td>70</td>\n",
       "      <td>77</td>\n",
       "    </tr>\n",
       "    <tr>\n",
       "      <th>2022-04-06</th>\n",
       "      <td>79</td>\n",
       "      <td>85</td>\n",
       "    </tr>\n",
       "  </tbody>\n",
       "</table>\n",
       "</div>"
      ],
      "text/plain": [
       "            Philadelphia  Seoul\n",
       "2022-04-02            70     77\n",
       "2022-04-06            79     85"
      ]
     },
     "execution_count": 20,
     "metadata": {},
     "output_type": "execute_result"
    }
   ],
   "source": [
    "## label을 이용하는 접근(label은 사용자 정의 인덱스를 말함)\n",
    "# 접근법, \n",
    "# 1. 단일 :  [데이타프레임 or Series].loc['label명',['컬럼명',...]]\n",
    "# DataFrame\n",
    "temps_df.loc['20220401']\n",
    "temps_df.loc['20220401',['Missoula','Seoul']]\n",
    "# Series\n",
    "temps_df.Seoul.loc['20220401']\n",
    "# 2. 여러개일 경우(특정 인덱스만 출력)\n",
    "temps_df.loc[['20220402','20220406'],['Philadelphia','Seoul']]\n",
    "\n",
    "\n",
    "#temps_df.loc['20220404':'20220406',['Seoul','Philadelphia']]\n"
   ]
  },
  {
   "cell_type": "code",
   "execution_count": 21,
   "metadata": {},
   "outputs": [
    {
     "data": {
      "text/plain": [
       "2022-04-04    83\n",
       "2022-04-05    77\n",
       "2022-04-06    79\n",
       "2022-04-07    75\n",
       "Freq: D, Name: Philadelphia, dtype: int64"
      ]
     },
     "execution_count": 21,
     "metadata": {},
     "output_type": "execute_result"
    }
   ],
   "source": [
    "## 기본 인덱스를 이용하여 접근\n",
    "# 접근법, \n",
    "# 1. 단일 :  [데이타프레임 or Series].loc['label명']\n",
    "\n",
    "temps_df.iloc[3:,1]"
   ]
  },
  {
   "cell_type": "code",
   "execution_count": 22,
   "metadata": {},
   "outputs": [
    {
     "ename": "SyntaxError",
     "evalue": "invalid syntax (2445519548.py, line 22)",
     "output_type": "error",
     "traceback": [
      "\u001b[1;36m  Input \u001b[1;32mIn [22]\u001b[1;36m\u001b[0m\n\u001b[1;33m    temps_df.Seoul.loc[['20220402':'20220406']]\u001b[0m\n\u001b[1;37m                                  ^\u001b[0m\n\u001b[1;31mSyntaxError\u001b[0m\u001b[1;31m:\u001b[0m invalid syntax\n"
     ]
    }
   ],
   "source": [
    "## label을 이용하는 접근(label은 사용자 정의 인덱스를 말함)\n",
    "# 접근법,\n",
    "# 1. 단일 : [데이터프레임 or Series].loc['label명']\n",
    "\n",
    "#DataFrame\n",
    "temps_df.loc['20220401']\n",
    "temps_df.loc['20220401',['Missoula','Seoul']]\n",
    "\n",
    "#Series\n",
    "temps_df.Seoul.loc['20220401']\n",
    "\n",
    "# 2. 여러개일 경우 (특정 인덱스만 출력)\n",
    "#DataFrame\n",
    "temps_df.loc[['20220402','20220406'],['Philadelphia','Seoul']]\n",
    "# Series\n",
    "temps_df.Seoul.loc[['20220402','20220406']]\n",
    "\n",
    "# 3. 여러개일 경우 (연속된 값일 경우)\n",
    "#DataFrame\n",
    "temps_df.loc['20220402':'20220406',['Philadelphia','Seoul']]\n",
    "# Series\n",
    "temps_df.Seoul.loc[['20220402':'20220406']]\n",
    "\n",
    "# 4. Boolean 값을 이용한 출력(이때에 인덱스 값과 같은 갯수의 리스트 갯수로 생성)\n",
    "#DataFrame\n",
    "ls = [True,False,False,True,False,False,True]\n",
    "temps_df.loc[ls,['Philadelphia','Seoul']]\n",
    "#Series\n",
    "temps_df.Missoula.loc[ls]\n",
    "\n",
    "\n",
    "#teps_df.loc['20220404':'20220406',['Seoul','Philadephia']]"
   ]
  },
  {
   "cell_type": "code",
   "execution_count": 23,
   "metadata": {},
   "outputs": [
    {
     "name": "stdout",
     "output_type": "stream",
     "text": [
      "            Missoula  Philadelphia  Seoul\n",
      "2022-04-01        80            60     75\n",
      "2022-04-02        82            70     77\n",
      "2022-04-03        85            69     67\n",
      "2022-04-04        90            83     82\n",
      "2022-04-05        92            77     77\n",
      "2022-04-06        87            79     85\n",
      "2022-04-07        88            75     89\n"
     ]
    },
    {
     "ename": "KeyError",
     "evalue": "3",
     "output_type": "error",
     "traceback": [
      "\u001b[1;31m---------------------------------------------------------------------------\u001b[0m",
      "\u001b[1;31mKeyError\u001b[0m                                  Traceback (most recent call last)",
      "\u001b[1;32mc:\\TJ\\PythonProject\\Day17\\day17-1.ipynb Cell 22'\u001b[0m in \u001b[0;36m<cell line: 6>\u001b[1;34m()\u001b[0m\n\u001b[0;32m      <a href='vscode-notebook-cell:/c%3A/TJ/PythonProject/Day17/day17-1.ipynb#ch0000021?line=0'>1</a>\u001b[0m \u001b[39m## label을 이용하는 접근(label은 사용자 정의 인덱스를 말함)\u001b[39;00m\n\u001b[0;32m      <a href='vscode-notebook-cell:/c%3A/TJ/PythonProject/Day17/day17-1.ipynb#ch0000021?line=1'>2</a>\u001b[0m \u001b[39m# 접근법,\u001b[39;00m\n\u001b[0;32m      <a href='vscode-notebook-cell:/c%3A/TJ/PythonProject/Day17/day17-1.ipynb#ch0000021?line=2'>3</a>\u001b[0m \u001b[39m# 1. 단일 : [데이터프레임 or Series].iloc[index값(int)]\u001b[39;00m\n\u001b[0;32m      <a href='vscode-notebook-cell:/c%3A/TJ/PythonProject/Day17/day17-1.ipynb#ch0000021?line=3'>4</a>\u001b[0m \u001b[39m# DataFrame\u001b[39;00m\n\u001b[0;32m      <a href='vscode-notebook-cell:/c%3A/TJ/PythonProject/Day17/day17-1.ipynb#ch0000021?line=4'>5</a>\u001b[0m \u001b[39mprint\u001b[39m(temps_df)\n\u001b[1;32m----> <a href='vscode-notebook-cell:/c%3A/TJ/PythonProject/Day17/day17-1.ipynb#ch0000021?line=5'>6</a>\u001b[0m temps_df\u001b[39m.\u001b[39;49mloc[\u001b[39m3\u001b[39;49m]     \n\u001b[0;32m      <a href='vscode-notebook-cell:/c%3A/TJ/PythonProject/Day17/day17-1.ipynb#ch0000021?line=6'>7</a>\u001b[0m temps_df\u001b[39m.\u001b[39miloc[\u001b[39m3\u001b[39m,\u001b[39m1\u001b[39m]  \u001b[39m# Philadelphia의 2022.04.04\u001b[39;00m\n\u001b[0;32m      <a href='vscode-notebook-cell:/c%3A/TJ/PythonProject/Day17/day17-1.ipynb#ch0000021?line=7'>8</a>\u001b[0m \u001b[39m# Series\u001b[39;00m\n",
      "File \u001b[1;32mC:\\Program Files\\Python310\\lib\\site-packages\\pandas\\core\\indexing.py:967\u001b[0m, in \u001b[0;36m_LocationIndexer.__getitem__\u001b[1;34m(self, key)\u001b[0m\n\u001b[0;32m    <a href='file:///c%3A/Program%20Files/Python310/lib/site-packages/pandas/core/indexing.py?line=963'>964</a>\u001b[0m axis \u001b[39m=\u001b[39m \u001b[39mself\u001b[39m\u001b[39m.\u001b[39maxis \u001b[39mor\u001b[39;00m \u001b[39m0\u001b[39m\n\u001b[0;32m    <a href='file:///c%3A/Program%20Files/Python310/lib/site-packages/pandas/core/indexing.py?line=965'>966</a>\u001b[0m maybe_callable \u001b[39m=\u001b[39m com\u001b[39m.\u001b[39mapply_if_callable(key, \u001b[39mself\u001b[39m\u001b[39m.\u001b[39mobj)\n\u001b[1;32m--> <a href='file:///c%3A/Program%20Files/Python310/lib/site-packages/pandas/core/indexing.py?line=966'>967</a>\u001b[0m \u001b[39mreturn\u001b[39;00m \u001b[39mself\u001b[39;49m\u001b[39m.\u001b[39;49m_getitem_axis(maybe_callable, axis\u001b[39m=\u001b[39;49maxis)\n",
      "File \u001b[1;32mC:\\Program Files\\Python310\\lib\\site-packages\\pandas\\core\\indexing.py:1202\u001b[0m, in \u001b[0;36m_LocIndexer._getitem_axis\u001b[1;34m(self, key, axis)\u001b[0m\n\u001b[0;32m   <a href='file:///c%3A/Program%20Files/Python310/lib/site-packages/pandas/core/indexing.py?line=1199'>1200</a>\u001b[0m \u001b[39m# fall thru to straight lookup\u001b[39;00m\n\u001b[0;32m   <a href='file:///c%3A/Program%20Files/Python310/lib/site-packages/pandas/core/indexing.py?line=1200'>1201</a>\u001b[0m \u001b[39mself\u001b[39m\u001b[39m.\u001b[39m_validate_key(key, axis)\n\u001b[1;32m-> <a href='file:///c%3A/Program%20Files/Python310/lib/site-packages/pandas/core/indexing.py?line=1201'>1202</a>\u001b[0m \u001b[39mreturn\u001b[39;00m \u001b[39mself\u001b[39;49m\u001b[39m.\u001b[39;49m_get_label(key, axis\u001b[39m=\u001b[39;49maxis)\n",
      "File \u001b[1;32mC:\\Program Files\\Python310\\lib\\site-packages\\pandas\\core\\indexing.py:1153\u001b[0m, in \u001b[0;36m_LocIndexer._get_label\u001b[1;34m(self, label, axis)\u001b[0m\n\u001b[0;32m   <a href='file:///c%3A/Program%20Files/Python310/lib/site-packages/pandas/core/indexing.py?line=1150'>1151</a>\u001b[0m \u001b[39mdef\u001b[39;00m \u001b[39m_get_label\u001b[39m(\u001b[39mself\u001b[39m, label, axis: \u001b[39mint\u001b[39m):\n\u001b[0;32m   <a href='file:///c%3A/Program%20Files/Python310/lib/site-packages/pandas/core/indexing.py?line=1151'>1152</a>\u001b[0m     \u001b[39m# GH#5667 this will fail if the label is not present in the axis.\u001b[39;00m\n\u001b[1;32m-> <a href='file:///c%3A/Program%20Files/Python310/lib/site-packages/pandas/core/indexing.py?line=1152'>1153</a>\u001b[0m     \u001b[39mreturn\u001b[39;00m \u001b[39mself\u001b[39;49m\u001b[39m.\u001b[39;49mobj\u001b[39m.\u001b[39;49mxs(label, axis\u001b[39m=\u001b[39;49maxis)\n",
      "File \u001b[1;32mC:\\Program Files\\Python310\\lib\\site-packages\\pandas\\core\\generic.py:3864\u001b[0m, in \u001b[0;36mNDFrame.xs\u001b[1;34m(self, key, axis, level, drop_level)\u001b[0m\n\u001b[0;32m   <a href='file:///c%3A/Program%20Files/Python310/lib/site-packages/pandas/core/generic.py?line=3861'>3862</a>\u001b[0m             new_index \u001b[39m=\u001b[39m index[loc]\n\u001b[0;32m   <a href='file:///c%3A/Program%20Files/Python310/lib/site-packages/pandas/core/generic.py?line=3862'>3863</a>\u001b[0m \u001b[39melse\u001b[39;00m:\n\u001b[1;32m-> <a href='file:///c%3A/Program%20Files/Python310/lib/site-packages/pandas/core/generic.py?line=3863'>3864</a>\u001b[0m     loc \u001b[39m=\u001b[39m index\u001b[39m.\u001b[39;49mget_loc(key)\n\u001b[0;32m   <a href='file:///c%3A/Program%20Files/Python310/lib/site-packages/pandas/core/generic.py?line=3865'>3866</a>\u001b[0m     \u001b[39mif\u001b[39;00m \u001b[39misinstance\u001b[39m(loc, np\u001b[39m.\u001b[39mndarray):\n\u001b[0;32m   <a href='file:///c%3A/Program%20Files/Python310/lib/site-packages/pandas/core/generic.py?line=3866'>3867</a>\u001b[0m         \u001b[39mif\u001b[39;00m loc\u001b[39m.\u001b[39mdtype \u001b[39m==\u001b[39m np\u001b[39m.\u001b[39mbool_:\n",
      "File \u001b[1;32mC:\\Program Files\\Python310\\lib\\site-packages\\pandas\\core\\indexes\\datetimes.py:676\u001b[0m, in \u001b[0;36mDatetimeIndex.get_loc\u001b[1;34m(self, key, method, tolerance)\u001b[0m\n\u001b[0;32m    <a href='file:///c%3A/Program%20Files/Python310/lib/site-packages/pandas/core/indexes/datetimes.py?line=671'>672</a>\u001b[0m     \u001b[39mreturn\u001b[39;00m \u001b[39mself\u001b[39m\u001b[39m.\u001b[39mindexer_at_time(key)\n\u001b[0;32m    <a href='file:///c%3A/Program%20Files/Python310/lib/site-packages/pandas/core/indexes/datetimes.py?line=673'>674</a>\u001b[0m \u001b[39melse\u001b[39;00m:\n\u001b[0;32m    <a href='file:///c%3A/Program%20Files/Python310/lib/site-packages/pandas/core/indexes/datetimes.py?line=674'>675</a>\u001b[0m     \u001b[39m# unrecognized type\u001b[39;00m\n\u001b[1;32m--> <a href='file:///c%3A/Program%20Files/Python310/lib/site-packages/pandas/core/indexes/datetimes.py?line=675'>676</a>\u001b[0m     \u001b[39mraise\u001b[39;00m \u001b[39mKeyError\u001b[39;00m(key)\n\u001b[0;32m    <a href='file:///c%3A/Program%20Files/Python310/lib/site-packages/pandas/core/indexes/datetimes.py?line=677'>678</a>\u001b[0m \u001b[39mtry\u001b[39;00m:\n\u001b[0;32m    <a href='file:///c%3A/Program%20Files/Python310/lib/site-packages/pandas/core/indexes/datetimes.py?line=678'>679</a>\u001b[0m     \u001b[39mreturn\u001b[39;00m Index\u001b[39m.\u001b[39mget_loc(\u001b[39mself\u001b[39m, key, method, tolerance)\n",
      "\u001b[1;31mKeyError\u001b[0m: 3"
     ]
    }
   ],
   "source": [
    "## label을 이용하는 접근(label은 사용자 정의 인덱스를 말함)\n",
    "# 접근법,\n",
    "# 1. 단일 : [데이터프레임 or Series].iloc[index값(int)]\n",
    "# DataFrame\n",
    "print(temps_df)\n",
    "temps_df.loc[3]     \n",
    "temps_df.iloc[3,1]  # Philadelphia의 2022.04.04\n",
    "# Series\n",
    "temps_df.Philadelphia.iloc[3]\n",
    "\n",
    "# 2. 여러개 값을 출력 (특정 인덱스만 출력)\n",
    "# DataFrame\n",
    "temps_df.iloc[[1,3,5],[1,2]]\n",
    "# Series\n",
    "temps_df.Seoul.iloc[[1,3,5]]\n",
    "\n",
    "# 3. 여러개일 경우(연속된 값인 경우)\n",
    "# DataFrame\n",
    "temps_df.iloc[1:4,[0,2]]\n",
    "# Series\n",
    "temps_df.Seoul.iloc[3:]\n",
    "\n",
    "# 4. Boolean 값을 이용한 출력\n",
    "# DataFrame\n",
    "temps_df.iloc[ls,[0,1,2]]\n",
    "# Series\n",
    "temps_df.Seoul.iloc[ls]\n"
   ]
  },
  {
   "cell_type": "code",
   "execution_count": 26,
   "metadata": {},
   "outputs": [
    {
     "name": "stdout",
     "output_type": "stream",
     "text": [
      "          Date        Open        High         Low       Close   Volume\n",
      "0   12/19/2016  790.219971  797.659973  786.270020  794.200012  1225900\n",
      "3   12/22/2016  792.359985  793.320007  788.580017  791.260010   969100\n",
      "6   12/28/2016  793.700012  794.229980  783.200012  785.049988  1132700\n",
      "9     1/3/2017  778.809998  789.630005  775.799988  786.140015  1643100\n",
      "12    1/6/2017  795.260010  807.900024  792.203979  806.150024  1620500\n",
      "..         ...         ...         ...         ...         ...      ...\n",
      "48    3/1/2017  828.849976  836.255005  827.260010  835.239990  1491400\n",
      "51    3/6/2017  826.950012  828.880005  822.400024  827.780029  1105800\n",
      "54    3/9/2017  836.000000  842.000000  834.210022  838.679993  1259900\n",
      "57   3/14/2017  843.640015  847.239990  840.799988  845.619995   779900\n",
      "60   3/17/2017  851.609985  853.400024  847.109985  852.119995  1712300\n",
      "\n",
      "[21 rows x 6 columns]\n"
     ]
    }
   ],
   "source": [
    "df = pd.read_csv('data/goog.csv')\n",
    "df2 = df.iloc[0::3]     # df2 = df.iloc[0:61:3]\n",
    "print(df2)"
   ]
  },
  {
   "cell_type": "code",
   "execution_count": 28,
   "metadata": {},
   "outputs": [
    {
     "name": "stdout",
     "output_type": "stream",
     "text": [
      "                  Open        High         Low       Close   Volume\n",
      "Date                                                               \n",
      "2016-12-19  790.219971  797.659973  786.270020  794.200012  1225900\n",
      "2016-12-20  796.760010  798.650024  793.270020  796.419983   925100\n",
      "2016-12-21  795.840027  796.676025  787.099976  794.559998  1208700\n",
      "2016-12-22  792.359985  793.320007  788.580017  791.260010   969100\n",
      "2016-12-23  790.900024  792.739990  787.280029  789.909973   623400\n",
      "...                ...         ...         ...         ...      ...\n",
      "2017-03-13  844.000000  848.684998  843.250000  845.539978  1149500\n",
      "2017-03-14  843.640015  847.239990  840.799988  845.619995   779900\n",
      "2017-03-15  847.590027  848.630005  840.770020  847.200012  1379600\n",
      "2017-03-16  849.030029  850.849976  846.130005  848.780029   970400\n",
      "2017-03-17  851.609985  853.400024  847.109985  852.119995  1712300\n",
      "\n",
      "[61 rows x 5 columns]\n"
     ]
    }
   ],
   "source": [
    "df31 = pd.read_csv(\"data/goog.csv\",parse_dates=['Date'],index_col = 'Date' )\n",
    "print(df31)\n"
   ]
  },
  {
   "cell_type": "code",
   "execution_count": 2,
   "metadata": {},
   "outputs": [
    {
     "name": "stdout",
     "output_type": "stream",
     "text": [
      "Note: you may need to restart the kernel to use updated packages.\n"
     ]
    },
    {
     "name": "stderr",
     "output_type": "stream",
     "text": [
      "ERROR: Could not find a version that satisfies the requirement pymsql (from versions: none)\n",
      "ERROR: No matching distribution found for pymsql\n"
     ]
    }
   ],
   "source": [
    "pip install pymsql"
   ]
  }
 ],
 "metadata": {
  "interpreter": {
   "hash": "b89b5cfaba6639976dc87ff2fec6d58faec662063367e2c229c520fe71072417"
  },
  "kernelspec": {
   "display_name": "Python 3.10.2 64-bit",
   "language": "python",
   "name": "python3"
  },
  "language_info": {
   "codemirror_mode": {
    "name": "ipython",
    "version": 3
   },
   "file_extension": ".py",
   "mimetype": "text/x-python",
   "name": "python",
   "nbconvert_exporter": "python",
   "pygments_lexer": "ipython3",
   "version": "3.10.3"
  },
  "orig_nbformat": 4
 },
 "nbformat": 4,
 "nbformat_minor": 2
}
