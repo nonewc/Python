{
 "cells": [
  {
   "cell_type": "code",
   "execution_count": 1,
   "metadata": {},
   "outputs": [
    {
     "ename": "SyntaxError",
     "evalue": "invalid syntax (2445519548.py, line 22)",
     "output_type": "error",
     "traceback": [
      "\u001b[1;36m  Input \u001b[1;32mIn [1]\u001b[1;36m\u001b[0m\n\u001b[1;33m    temps_df.Seoul.loc[['20220402':'20220406']]\u001b[0m\n\u001b[1;37m                                  ^\u001b[0m\n\u001b[1;31mSyntaxError\u001b[0m\u001b[1;31m:\u001b[0m invalid syntax\n"
     ]
    }
   ],
   "source": [
    "## label을 이용하는 접근(label은 사용자 정의 인덱스를 말함)\n",
    "# 접근법,\n",
    "# 1. 단일 : [데이터프레임 or Series].loc['label명']\n",
    "\n",
    "#DataFrame\n",
    "temps_df.loc['20220401']\n",
    "temps_df.loc['20220401',['Missoula','Seoul']]\n",
    "\n",
    "#Series\n",
    "temps_df.Seoul.loc['20220401']\n",
    "\n",
    "# 2. 여러개일 경우 (특정 인덱스만 출력)\n",
    "#DataFrame\n",
    "temps_df.loc[['20220402','20220406'],['Philadelphia','Seoul']]\n",
    "# Series\n",
    "temps_df.Seoul.loc[['20220402','20220406']]\n",
    "\n",
    "# 3. 여러개일 경우 (연속된 값일 경우)\n",
    "#DataFrame\n",
    "temps_df.loc['20220402':'20220406',['Philadelphia','Seoul']]\n",
    "# Series\n",
    "temps_df.Seoul.loc[['20220402':'20220406']]\n",
    "\n",
    "# 4. Boolean 값을 이용한 출력(이때에 인덱스 값과 같은 갯수의 리스트 갯수로 생성)\n",
    "#DataFrame\n",
    "ls = [True,False,False,True,False,False,True]\n",
    "temps_df.loc[ls,['Philadelphia','Seoul']]\n",
    "#Series\n",
    "temps_df.Missoula.loc[ls]\n",
    "\n",
    "\n",
    "#teps_df.loc['20220404':'20220406',['Seoul','Philadephia']]"
   ]
  },
  {
   "cell_type": "code",
   "execution_count": null,
   "metadata": {},
   "outputs": [],
   "source": [
    "## label을 이용하는 접근(label은 사용자 정의 인덱스를 말함)\n",
    "# 접근법,\n",
    "# 1. 단일 : [데이터프레임 or Series].iloc[index값(int)]\n",
    "# DataFrame\n",
    "print(temps_df)\n",
    "temps_df.loc[3]     \n",
    "temps_df.iloc[3,1]  # Philadelphia의 2022.04.04\n",
    "# Series\n",
    "temps_df.Philadelphia.iloc[3]\n",
    "\n",
    "# 2. 여러개 값을 출력 (특정 인덱스만 출력)\n",
    "# DataFrame\n",
    "temps_df.iloc[[1,3,5],[1,2]]\n",
    "# Series\n",
    "temps_df.Seoul.iloc[[1,3,5]]\n",
    "\n",
    "# 3. 여러개일 경우(연속된 값인 경우)\n",
    "# DataFrame\n",
    "temps_df.iloc[1:4,[0,2]]\n",
    "# Series\n",
    "temps_df.Seoul.iloc[3:]\n",
    "\n",
    "# 4. Boolean 값을 이용한 출력\n",
    "# DataFrame\n",
    "temps_df.iloc[ls,[0,1,2]]\n",
    "# Series\n",
    "temps_df.Seoul.iloc[ls]\n"
   ]
  }
 ],
 "metadata": {
  "interpreter": {
   "hash": "b89b5cfaba6639976dc87ff2fec6d58faec662063367e2c229c520fe71072417"
  },
  "kernelspec": {
   "display_name": "Python 3.10.3 64-bit",
   "language": "python",
   "name": "python3"
  },
  "language_info": {
   "codemirror_mode": {
    "name": "ipython",
    "version": 3
   },
   "file_extension": ".py",
   "mimetype": "text/x-python",
   "name": "python",
   "nbconvert_exporter": "python",
   "pygments_lexer": "ipython3",
   "version": "3.10.3"
  },
  "orig_nbformat": 4
 },
 "nbformat": 4,
 "nbformat_minor": 2
}
