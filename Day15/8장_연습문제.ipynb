{
 "cells": [
  {
   "cell_type": "code",
   "execution_count": 13,
   "metadata": {},
   "outputs": [
    {
     "name": "stdout",
     "output_type": "stream",
     "text": [
      "문장 내용\n",
      "['programming is fun', 'very fun!', 'have a good time', 'mouse is input device', 'keyboard is input device', 'computer is input output system']\n",
      "문장 수 :  6\n",
      "단어 내용\n",
      "['programming', 'is', 'fun', 'very', 'fun!', 'have', 'a', 'good', 'time', 'mouse', 'input', 'device', 'keyboard', 'computer', 'output', 'system']\n",
      "단어 수 :  16\n"
     ]
    }
   ],
   "source": [
    "from re import split\n",
    "\n",
    "file = open(\"data/ftest.txt\",\"r\")\n",
    "\n",
    "lines = file.readlines()\n",
    "doc = []\n",
    "words = []\n",
    "\n",
    "for sentence in lines:\n",
    "    doc.append(sentence.strip())\n",
    "    for word in sentence.split():\n",
    "        if word not in words:\n",
    "            words.append(word)\n",
    "\n",
    "print(\"문장 내용\")\n",
    "print(doc)\n",
    "print(\"문장 수 : \",len(doc))\n",
    "\n",
    "print(\"단어 내용\")\n",
    "print(words)\n",
    "print(\"단어 수 : \",len(words))"
   ]
  },
  {
   "cell_type": "code",
   "execution_count": 30,
   "metadata": {},
   "outputs": [
    {
     "name": "stdout",
     "output_type": "stream",
     "text": [
      "<class 'pandas.core.frame.DataFrame'>\n",
      "RangeIndex: 5 entries, 0 to 4\n",
      "Data columns (total 3 columns):\n",
      " #   Column  Non-Null Count  Dtype \n",
      "---  ------  --------------  ----- \n",
      " 0   No      5 non-null      int64 \n",
      " 1   Name    5 non-null      object\n",
      " 2   Pay     5 non-null      int64 \n",
      "dtypes: int64(2), object(1)\n",
      "memory usage: 248.0+ bytes\n",
      "None\n",
      "관측치 길이 :  5\n",
      "전체 평균 급여 : 370.0\n",
      "최저 급여 :  150 이름 :  홍길동\n",
      "최고 급여 :  500 이름 :  강감찬\n"
     ]
    }
   ],
   "source": [
    "import pandas as pd\n",
    "from statistics import mean\n",
    "\n",
    "emp = pd.read_csv('data/emp.csv',encoding=\"utf-8\")\n",
    "print(emp.info())\n",
    "\n",
    "\n",
    "\n",
    "pay = emp['Pay']\n",
    "name = emp['Name']\n",
    "\n",
    "for idx in range(len(pay)) :\n",
    "    if pay[idx] == min(pay) :\n",
    "        min_name = name[idx]\n",
    "    if pay[idx] == max(pay) :\n",
    "        max_name = name[idx]\n",
    "        \n",
    "print('관측치 길이 : ',len(emp))\n",
    "print('전체 평균 급여 : %.1f' %mean(pay))\n",
    "print('최저 급여 : ',min(pay),'이름 : ',min_name)\n",
    "print('최고 급여 : ',max(pay),'이름 : ',max_name)\n",
    "\n",
    "\n",
    "\n"
   ]
  }
 ],
 "metadata": {
  "interpreter": {
   "hash": "b89b5cfaba6639976dc87ff2fec6d58faec662063367e2c229c520fe71072417"
  },
  "kernelspec": {
   "display_name": "Python 3.10.3 64-bit",
   "language": "python",
   "name": "python3"
  },
  "language_info": {
   "codemirror_mode": {
    "name": "ipython",
    "version": 3
   },
   "file_extension": ".py",
   "mimetype": "text/x-python",
   "name": "python",
   "nbconvert_exporter": "python",
   "pygments_lexer": "ipython3",
   "version": "3.10.3"
  },
  "orig_nbformat": 4
 },
 "nbformat": 4,
 "nbformat_minor": 2
}
